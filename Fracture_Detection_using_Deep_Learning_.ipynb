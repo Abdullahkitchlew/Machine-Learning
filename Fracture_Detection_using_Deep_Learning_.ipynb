{
  "cells": [
    {
      "cell_type": "markdown",
      "metadata": {
        "id": "view-in-github",
        "colab_type": "text"
      },
      "source": [
        "<a href=\"https://colab.research.google.com/github/Abdullahkitchlew/Machine-Learning/blob/main/Fracture_Detection_using_Deep_Learning_.ipynb\" target=\"_parent\"><img src=\"https://colab.research.google.com/assets/colab-badge.svg\" alt=\"Open In Colab\"/></a>"
      ]
    },
    {
      "cell_type": "code",
      "execution_count": null,
      "metadata": {
        "id": "ot2GMwv0HOWy",
        "colab": {
          "base_uri": "https://localhost:8080/"
        },
        "outputId": "2178bf68-34b1-4173-ead3-ac2da9e0b545"
      },
      "outputs": [
        {
          "output_type": "stream",
          "name": "stdout",
          "text": [
            "Looking in indexes: https://pypi.org/simple, https://us-python.pkg.dev/colab-wheels/public/simple/\n",
            "Requirement already satisfied: tensorflow in /usr/local/lib/python3.9/dist-packages (2.11.0)\n",
            "Collecting tensorflow-gpu\n",
            "  Using cached tensorflow-gpu-2.12.0.tar.gz (2.6 kB)\n",
            "  \u001b[1;31merror\u001b[0m: \u001b[1msubprocess-exited-with-error\u001b[0m\n",
            "  \n",
            "  \u001b[31m×\u001b[0m \u001b[32mpython setup.py egg_info\u001b[0m did not run successfully.\n",
            "  \u001b[31m│\u001b[0m exit code: \u001b[1;36m1\u001b[0m\n",
            "  \u001b[31m╰─>\u001b[0m See above for output.\n",
            "  \n",
            "  \u001b[1;35mnote\u001b[0m: This error originates from a subprocess, and is likely not a problem with pip.\n",
            "  Preparing metadata (setup.py) ... \u001b[?25l\u001b[?25herror\n",
            "\u001b[1;31merror\u001b[0m: \u001b[1mmetadata-generation-failed\u001b[0m\n",
            "\n",
            "\u001b[31m×\u001b[0m Encountered error while generating package metadata.\n",
            "\u001b[31m╰─>\u001b[0m See above for output.\n",
            "\n",
            "\u001b[1;35mnote\u001b[0m: This is an issue with the package mentioned above, not pip.\n",
            "\u001b[1;36mhint\u001b[0m: See above for details.\n"
          ]
        }
      ],
      "source": [
        "!pip install tensorflow tensorflow-gpu opencv-python matplotlib\n"
      ]
    },
    {
      "cell_type": "code",
      "execution_count": null,
      "metadata": {
        "id": "lxvGREziPP22"
      },
      "outputs": [],
      "source": [
        "# !pip list"
      ]
    },
    {
      "cell_type": "code",
      "execution_count": null,
      "metadata": {
        "id": "ROnfD_eqPqCg"
      },
      "outputs": [],
      "source": [
        "import tensorflow as tf\n",
        "import os\n",
        "\n"
      ]
    },
    {
      "cell_type": "markdown",
      "metadata": {
        "id": "31Q5y8S3Qa7a"
      },
      "source": [
        "Importing Images"
      ]
    },
    {
      "cell_type": "code",
      "execution_count": null,
      "metadata": {
        "id": "PrqWFaalP5Qq",
        "colab": {
          "base_uri": "https://localhost:8080/"
        },
        "outputId": "478bac77-d9f7-47e6-c672-0f9dff01baba"
      },
      "outputs": [
        {
          "output_type": "stream",
          "name": "stdout",
          "text": [
            "Drive already mounted at /content/drive; to attempt to forcibly remount, call drive.mount(\"/content/drive\", force_remount=True).\n"
          ]
        }
      ],
      "source": [
        "from google.colab import drive\n",
        "drive.mount('/content/drive')"
      ]
    },
    {
      "cell_type": "code",
      "execution_count": null,
      "metadata": {
        "id": "9skUC0AsQhI4"
      },
      "outputs": [],
      "source": [
        "import numpy as np\n",
        "import pandas as pd\n",
        "from matplotlib import pyplot as plt\n",
        "\n",
        "from tensorflow import keras\n",
        "%matplotlib inline\n",
        "\n",
        "import cv2\n",
        "from google.colab.patches import cv2_imshow"
      ]
    },
    {
      "cell_type": "code",
      "execution_count": null,
      "metadata": {
        "id": "Bf4QY8YzRDJO",
        "colab": {
          "base_uri": "https://localhost:8080/"
        },
        "outputId": "279cf07b-5578-4ea3-ec61-0e0f00f6256d"
      },
      "outputs": [
        {
          "output_type": "stream",
          "name": "stdout",
          "text": [
            "Found 8883 files belonging to 2 classes.\n"
          ]
        }
      ],
      "source": [
        "data = tf.keras.utils.image_dataset_from_directory('/content/drive/MyDrive/Colab Notebooks/Fracture Detection/train/', batch_size=100)\n"
      ]
    },
    {
      "cell_type": "code",
      "execution_count": null,
      "metadata": {
        "id": "cwOJcwt1TBpp"
      },
      "outputs": [],
      "source": [
        "data_iterator = data.as_numpy_iterator()\n"
      ]
    },
    {
      "cell_type": "code",
      "execution_count": null,
      "metadata": {
        "id": "NJ5-Ld5JTF0V"
      },
      "outputs": [],
      "source": [
        "batch = data_iterator.next()\n"
      ]
    },
    {
      "cell_type": "code",
      "execution_count": null,
      "metadata": {
        "id": "I3gySu-7TIz6",
        "colab": {
          "base_uri": "https://localhost:8080/",
          "height": 256
        },
        "outputId": "d7b2463a-bdfc-452a-ba73-ec2fc1cdd087"
      },
      "outputs": [
        {
          "output_type": "display_data",
          "data": {
            "text/plain": [
              "<Figure size 1440x1440 with 5 Axes>"
            ],
            "image/png": "[encoded data removed]"
          },
          "metadata": {
            "needs_background": "light"
          }
        }
      ],
      "source": [
        "fig, ax = plt.subplots(ncols=5, figsize=(20,20))\n",
        "\n",
        "\n",
        "for idx, img in enumerate(batch[0][:5]):\n",
        "    ax[idx].imshow(img.astype(int))\n",
        "    ax[idx].title.set_text(batch[1][idx])\n"
      ]
    },
    {
      "cell_type": "code",
      "execution_count": null,
      "metadata": {
        "id": "FbfwnxFQZLrx",
        "colab": {
          "base_uri": "https://localhost:8080/"
        },
        "outputId": "0620bc24-4619-41a5-9d89-9be2aa3db287"
      },
      "outputs": [
        {
          "output_type": "execute_result",
          "data": {
            "text/plain": [
              "(100, 256, 256, 3)"
            ]
          },
          "metadata": {},
          "execution_count": 14
        }
      ],
      "source": [
        "batch[0].shape"
      ]
    },
    {
      "cell_type": "code",
      "execution_count": null,
      "metadata": {
        "id": "UwKyO-ffZkpN",
        "colab": {
          "base_uri": "https://localhost:8080/"
        },
        "outputId": "554ff186-29c1-4e19-bcdc-8b06b91fc8e1"
      },
      "outputs": [
        {
          "output_type": "execute_result",
          "data": {
            "text/plain": [
              "array([0, 0, 1, 1, 0, 1, 0, 0, 0, 0, 1, 1, 1, 0, 0, 1, 1, 1, 0, 1, 1, 1,\n",
              "       0, 1, 1, 0, 0, 0, 0, 1, 1, 0, 0, 0, 1, 1, 0, 1, 0, 0, 0, 0, 0, 1,\n",
              "       1, 0, 1, 1, 1, 1, 0, 1, 0, 0, 0, 0, 1, 0, 0, 0, 0, 1, 0, 0, 1, 0,\n",
              "       1, 0, 0, 1, 0, 1, 0, 1, 0, 1, 1, 0, 0, 1, 0, 1, 0, 1, 1, 0, 1, 0,\n",
              "       1, 1, 1, 0, 0, 1, 1, 0, 0, 1, 0, 1], dtype=int32)"
            ]
          },
          "metadata": {},
          "execution_count": 15
        }
      ],
      "source": [
        "batch[1]\n"
      ]
    },
    {
      "cell_type": "markdown",
      "metadata": {
        "id": "V8g-owveVJif"
      },
      "source": [
        "Scaling Data"
      ]
    },
    {
      "cell_type": "code",
      "execution_count": null,
      "metadata": {
        "id": "E5Ri8QjEVJRO",
        "colab": {
          "base_uri": "https://localhost:8080/"
        },
        "outputId": "fd2339f8-b6d1-4a41-a048-4fc4f46092ff"
      },
      "outputs": [
        {
          "output_type": "stream",
          "name": "stderr",
          "text": [
            "WARNING:tensorflow:From /usr/local/lib/python3.9/dist-packages/tensorflow/python/autograph/pyct/static_analysis/liveness.py:83: Analyzer.lamba_check (from tensorflow.python.autograph.pyct.static_analysis.liveness) is deprecated and will be removed after 2023-09-23.\n",
            "Instructions for updating:\n",
            "Lambda fuctions will be no more assumed to be used in the statement where they are used, or at least in the same block. https://github.com/tensorflow/tensorflow/issues/56089\n"
          ]
        }
      ],
      "source": [
        "data = data.map(lambda x,y: (x/255, y))\n",
        "\n"
      ]
    },
    {
      "cell_type": "code",
      "execution_count": null,
      "metadata": {
        "id": "gq5cfM6RTUtD",
        "colab": {
          "base_uri": "https://localhost:8080/"
        },
        "outputId": "64594802-b5c0-4ae1-8314-511f0047b3f0"
      },
      "outputs": [
        {
          "output_type": "execute_result",
          "data": {
            "text/plain": [
              "(array([[[[0., 0., 0.],\n",
              "          [0., 0., 0.],\n",
              "          [0., 0., 0.],\n",
              "          ...,\n",
              "          [0., 0., 0.],\n",
              "          [0., 0., 0.],\n",
              "          [0., 0., 0.]],\n",
              " \n",
              "         [[0., 0., 0.],\n",
              "          [0., 0., 0.],\n",
              "          [0., 0., 0.],\n",
              "          ...,\n",
              "          [0., 0., 0.],\n",
              "          [0., 0., 0.],\n",
              "          [0., 0., 0.]],\n",
              " \n",
              "         [[0., 0., 0.],\n",
              "          [0., 0., 0.],\n",
              "          [0., 0., 0.],\n",
              "          ...,\n",
              "          [0., 0., 0.],\n",
              "          [0., 0., 0.],\n",
              "          [0., 0., 0.]],\n",
              " \n",
              "         ...,\n",
              " \n",
              "         [[0., 0., 0.],\n",
              "          [0., 0., 0.],\n",
              "          [0., 0., 0.],\n",
              "          ...,\n",
              "          [0., 0., 0.],\n",
              "          [0., 0., 0.],\n",
              "          [0., 0., 0.]],\n",
              " \n",
              "         [[0., 0., 0.],\n",
              "          [0., 0., 0.],\n",
              "          [0., 0., 0.],\n",
              "          ...,\n",
              "          [0., 0., 0.],\n",
              "          [0., 0., 0.],\n",
              "          [0., 0., 0.]],\n",
              " \n",
              "         [[0., 0., 0.],\n",
              "          [0., 0., 0.],\n",
              "          [0., 0., 0.],\n",
              "          ...,\n",
              "          [0., 0., 0.],\n",
              "          [0., 0., 0.],\n",
              "          [0., 0., 0.]]],\n",
              " \n",
              " \n",
              "        [[[0., 0., 0.],\n",
              "          [0., 0., 0.],\n",
              "          [0., 0., 0.],\n",
              "          ...,\n",
              "          [0., 0., 0.],\n",
              "          [0., 0., 0.],\n",
              "          [0., 0., 0.]],\n",
              " \n",
              "         [[0., 0., 0.],\n",
              "          [0., 0., 0.],\n",
              "          [0., 0., 0.],\n",
              "          ...,\n",
              "          [0., 0., 0.],\n",
              "          [0., 0., 0.],\n",
              "          [0., 0., 0.]],\n",
              " \n",
              "         [[0., 0., 0.],\n",
              "          [0., 0., 0.],\n",
              "          [0., 0., 0.],\n",
              "          ...,\n",
              "          [0., 0., 0.],\n",
              "          [0., 0., 0.],\n",
              "          [0., 0., 0.]],\n",
              " \n",
              "         ...,\n",
              " \n",
              "         [[0., 0., 0.],\n",
              "          [0., 0., 0.],\n",
              "          [0., 0., 0.],\n",
              "          ...,\n",
              "          [0., 0., 0.],\n",
              "          [0., 0., 0.],\n",
              "          [0., 0., 0.]],\n",
              " \n",
              "         [[0., 0., 0.],\n",
              "          [0., 0., 0.],\n",
              "          [0., 0., 0.],\n",
              "          ...,\n",
              "          [0., 0., 0.],\n",
              "          [0., 0., 0.],\n",
              "          [0., 0., 0.]],\n",
              " \n",
              "         [[0., 0., 0.],\n",
              "          [0., 0., 0.],\n",
              "          [0., 0., 0.],\n",
              "          ...,\n",
              "          [0., 0., 0.],\n",
              "          [0., 0., 0.],\n",
              "          [0., 0., 0.]]],\n",
              " \n",
              " \n",
              "        [[[0., 0., 0.],\n",
              "          [0., 0., 0.],\n",
              "          [0., 0., 0.],\n",
              "          ...,\n",
              "          [0., 0., 0.],\n",
              "          [0., 0., 0.],\n",
              "          [0., 0., 0.]],\n",
              " \n",
              "         [[0., 0., 0.],\n",
              "          [0., 0., 0.],\n",
              "          [0., 0., 0.],\n",
              "          ...,\n",
              "          [0., 0., 0.],\n",
              "          [0., 0., 0.],\n",
              "          [0., 0., 0.]],\n",
              " \n",
              "         [[0., 0., 0.],\n",
              "          [0., 0., 0.],\n",
              "          [0., 0., 0.],\n",
              "          ...,\n",
              "          [0., 0., 0.],\n",
              "          [0., 0., 0.],\n",
              "          [0., 0., 0.]],\n",
              " \n",
              "         ...,\n",
              " \n",
              "         [[0., 0., 0.],\n",
              "          [0., 0., 0.],\n",
              "          [0., 0., 0.],\n",
              "          ...,\n",
              "          [0., 0., 0.],\n",
              "          [0., 0., 0.],\n",
              "          [0., 0., 0.]],\n",
              " \n",
              "         [[0., 0., 0.],\n",
              "          [0., 0., 0.],\n",
              "          [0., 0., 0.],\n",
              "          ...,\n",
              "          [0., 0., 0.],\n",
              "          [0., 0., 0.],\n",
              "          [0., 0., 0.]],\n",
              " \n",
              "         [[0., 0., 0.],\n",
              "          [0., 0., 0.],\n",
              "          [0., 0., 0.],\n",
              "          ...,\n",
              "          [0., 0., 0.],\n",
              "          [0., 0., 0.],\n",
              "          [0., 0., 0.]]],\n",
              " \n",
              " \n",
              "        ...,\n",
              " \n",
              " \n",
              "        [[[0., 0., 0.],\n",
              "          [0., 0., 0.],\n",
              "          [0., 0., 0.],\n",
              "          ...,\n",
              "          [0., 0., 0.],\n",
              "          [0., 0., 0.],\n",
              "          [0., 0., 0.]],\n",
              " \n",
              "         [[0., 0., 0.],\n",
              "          [0., 0., 0.],\n",
              "          [0., 0., 0.],\n",
              "          ...,\n",
              "          [0., 0., 0.],\n",
              "          [0., 0., 0.],\n",
              "          [0., 0., 0.]],\n",
              " \n",
              "         [[0., 0., 0.],\n",
              "          [0., 0., 0.],\n",
              "          [0., 0., 0.],\n",
              "          ...,\n",
              "          [0., 0., 0.],\n",
              "          [0., 0., 0.],\n",
              "          [0., 0., 0.]],\n",
              " \n",
              "         ...,\n",
              " \n",
              "         [[0., 0., 0.],\n",
              "          [0., 0., 0.],\n",
              "          [0., 0., 0.],\n",
              "          ...,\n",
              "          [0., 0., 0.],\n",
              "          [0., 0., 0.],\n",
              "          [0., 0., 0.]],\n",
              " \n",
              "         [[0., 0., 0.],\n",
              "          [0., 0., 0.],\n",
              "          [0., 0., 0.],\n",
              "          ...,\n",
              "          [0., 0., 0.],\n",
              "          [0., 0., 0.],\n",
              "          [0., 0., 0.]],\n",
              " \n",
              "         [[0., 0., 0.],\n",
              "          [0., 0., 0.],\n",
              "          [0., 0., 0.],\n",
              "          ...,\n",
              "          [0., 0., 0.],\n",
              "          [0., 0., 0.],\n",
              "          [0., 0., 0.]]],\n",
              " \n",
              " \n",
              "        [[[0., 0., 0.],\n",
              "          [0., 0., 0.],\n",
              "          [0., 0., 0.],\n",
              "          ...,\n",
              "          [0., 0., 0.],\n",
              "          [0., 0., 0.],\n",
              "          [0., 0., 0.]],\n",
              " \n",
              "         [[0., 0., 0.],\n",
              "          [0., 0., 0.],\n",
              "          [0., 0., 0.],\n",
              "          ...,\n",
              "          [0., 0., 0.],\n",
              "          [0., 0., 0.],\n",
              "          [0., 0., 0.]],\n",
              " \n",
              "         [[0., 0., 0.],\n",
              "          [0., 0., 0.],\n",
              "          [0., 0., 0.],\n",
              "          ...,\n",
              "          [0., 0., 0.],\n",
              "          [0., 0., 0.],\n",
              "          [0., 0., 0.]],\n",
              " \n",
              "         ...,\n",
              " \n",
              "         [[0., 0., 0.],\n",
              "          [0., 0., 0.],\n",
              "          [0., 0., 0.],\n",
              "          ...,\n",
              "          [0., 0., 0.],\n",
              "          [0., 0., 0.],\n",
              "          [0., 0., 0.]],\n",
              " \n",
              "         [[0., 0., 0.],\n",
              "          [0., 0., 0.],\n",
              "          [0., 0., 0.],\n",
              "          ...,\n",
              "          [0., 0., 0.],\n",
              "          [0., 0., 0.],\n",
              "          [0., 0., 0.]],\n",
              " \n",
              "         [[0., 0., 0.],\n",
              "          [0., 0., 0.],\n",
              "          [0., 0., 0.],\n",
              "          ...,\n",
              "          [0., 0., 0.],\n",
              "          [0., 0., 0.],\n",
              "          [0., 0., 0.]]],\n",
              " \n",
              " \n",
              "        [[[0., 0., 0.],\n",
              "          [0., 0., 0.],\n",
              "          [0., 0., 0.],\n",
              "          ...,\n",
              "          [0., 0., 0.],\n",
              "          [0., 0., 0.],\n",
              "          [0., 0., 0.]],\n",
              " \n",
              "         [[0., 0., 0.],\n",
              "          [0., 0., 0.],\n",
              "          [0., 0., 0.],\n",
              "          ...,\n",
              "          [0., 0., 0.],\n",
              "          [0., 0., 0.],\n",
              "          [0., 0., 0.]],\n",
              " \n",
              "         [[0., 0., 0.],\n",
              "          [0., 0., 0.],\n",
              "          [0., 0., 0.],\n",
              "          ...,\n",
              "          [0., 0., 0.],\n",
              "          [0., 0., 0.],\n",
              "          [0., 0., 0.]],\n",
              " \n",
              "         ...,\n",
              " \n",
              "         [[0., 0., 0.],\n",
              "          [0., 0., 0.],\n",
              "          [0., 0., 0.],\n",
              "          ...,\n",
              "          [0., 0., 0.],\n",
              "          [0., 0., 0.],\n",
              "          [0., 0., 0.]],\n",
              " \n",
              "         [[0., 0., 0.],\n",
              "          [0., 0., 0.],\n",
              "          [0., 0., 0.],\n",
              "          ...,\n",
              "          [0., 0., 0.],\n",
              "          [0., 0., 0.],\n",
              "          [0., 0., 0.]],\n",
              " \n",
              "         [[0., 0., 0.],\n",
              "          [0., 0., 0.],\n",
              "          [0., 0., 0.],\n",
              "          ...,\n",
              "          [0., 0., 0.],\n",
              "          [0., 0., 0.],\n",
              "          [0., 0., 0.]]]], dtype=float32),\n",
              " array([0, 0, 0, 1, 1, 0, 0, 0, 0, 0, 0, 0, 1, 1, 0, 1, 0, 1, 0, 1, 0, 0,\n",
              "        0, 0, 0, 0, 0, 1, 0, 1, 0, 0, 0, 1, 0, 0, 0, 1, 0, 0, 0, 0, 1, 0,\n",
              "        0, 1, 1, 0, 0, 0, 1, 1, 0, 1, 1, 0, 0, 1, 0, 0, 1, 0, 0, 1, 1, 1,\n",
              "        0, 1, 1, 1, 1, 0, 0, 1, 1, 0, 1, 1, 1, 0, 1, 0, 1, 1, 0, 1, 1, 0,\n",
              "        0, 1, 1, 0, 0, 0, 0, 0, 0, 0, 0, 0], dtype=int32))"
            ]
          },
          "metadata": {},
          "execution_count": 17
        }
      ],
      "source": [
        "data.as_numpy_iterator().next()"
      ]
    },
    {
      "cell_type": "markdown",
      "metadata": {
        "id": "xummhdtnVXty"
      },
      "source": [
        "Splitting Data"
      ]
    },
    {
      "cell_type": "code",
      "execution_count": null,
      "metadata": {
        "id": "4Nk1t23AVWxp"
      },
      "outputs": [],
      "source": [
        "train_size = int(len(data)*.7)\n",
        "val_size = int(len(data)*.2)\n",
        "test_size = int(len(data)*.1)"
      ]
    },
    {
      "cell_type": "code",
      "execution_count": null,
      "metadata": {
        "id": "eBHXJlEDVRP4",
        "colab": {
          "base_uri": "https://localhost:8080/"
        },
        "outputId": "958508a0-bbdc-4fa7-d205-b8c6dc514304"
      },
      "outputs": [
        {
          "output_type": "execute_result",
          "data": {
            "text/plain": [
              "62"
            ]
          },
          "metadata": {},
          "execution_count": 19
        }
      ],
      "source": [
        "train_size"
      ]
    },
    {
      "cell_type": "code",
      "execution_count": null,
      "metadata": {
        "id": "HcLKSdU3VbJG",
        "colab": {
          "base_uri": "https://localhost:8080/"
        },
        "outputId": "130142eb-069f-4a29-9064-03d8c8423082"
      },
      "outputs": [
        {
          "output_type": "execute_result",
          "data": {
            "text/plain": [
              "8"
            ]
          },
          "metadata": {},
          "execution_count": 20
        }
      ],
      "source": [
        "test_size"
      ]
    },
    {
      "cell_type": "code",
      "execution_count": null,
      "metadata": {
        "id": "f7V3UMgWVfL6"
      },
      "outputs": [],
      "source": [
        "train = data.take(train_size)\n",
        "val = data.skip(train_size).take(val_size)\n",
        "test = data.skip(train_size+val_size).take(test_size)"
      ]
    },
    {
      "cell_type": "markdown",
      "metadata": {
        "id": "P1ZIGiN4VqVd"
      },
      "source": [
        "Build Deep Learning Model"
      ]
    },
    {
      "cell_type": "code",
      "execution_count": null,
      "metadata": {
        "id": "iD0blh4TXDgB"
      },
      "outputs": [],
      "source": [
        "# tf.data.Dataset??"
      ]
    },
    {
      "cell_type": "code",
      "execution_count": null,
      "metadata": {
        "id": "wpI1B95PVoEz"
      },
      "outputs": [],
      "source": [
        "from tensorflow.keras.models import Sequential\n",
        "from tensorflow.keras.layers import Conv2D, MaxPooling2D, Dense, Flatten, Dropout"
      ]
    },
    {
      "cell_type": "code",
      "execution_count": null,
      "metadata": {
        "id": "oIOt7QKXVtUc"
      },
      "outputs": [],
      "source": [
        "model = Sequential()\n",
        "\n",
        "model.add(Conv2D(16, (3,3), 1, activation='relu', input_shape=(256,256,3)))\n",
        "model.add(MaxPooling2D())\n",
        "model.add(Conv2D(32, (3,3), 1, activation='relu'))\n",
        "model.add(MaxPooling2D())\n",
        "model.add(Conv2D(16, (3,3), 1, activation='relu'))\n",
        "model.add(MaxPooling2D())\n",
        "model.add(Flatten())\n",
        "model.add(Dense(256, activation='relu'))\n",
        "model.add(Dense(1, activation='sigmoid'))"
      ]
    },
    {
      "cell_type": "code",
      "execution_count": null,
      "metadata": {
        "id": "pIKQLGieVzaF"
      },
      "outputs": [],
      "source": [
        "model.compile('adam', loss=tf.losses.BinaryCrossentropy(), metrics=['accuracy'])"
      ]
    },
    {
      "cell_type": "code",
      "execution_count": null,
      "metadata": {
        "id": "rrve1RO7V14e",
        "colab": {
          "base_uri": "https://localhost:8080/"
        },
        "outputId": "a474a72b-0a23-425f-b2f9-fd475336109d"
      },
      "outputs": [
        {
          "output_type": "stream",
          "name": "stdout",
          "text": [
            "Model: \"sequential\"\n",
            "_________________________________________________________________\n",
            " Layer (type)                Output Shape              Param #   \n",
            "=================================================================\n",
            " conv2d (Conv2D)             (None, 254, 254, 16)      448       \n",
            "                                                                 \n",
            " max_pooling2d (MaxPooling2D  (None, 127, 127, 16)     0         \n",
            " )                                                               \n",
            "                                                                 \n",
            " conv2d_1 (Conv2D)           (None, 125, 125, 32)      4640      \n",
            "                                                                 \n",
            " max_pooling2d_1 (MaxPooling  (None, 62, 62, 32)       0         \n",
            " 2D)                                                             \n",
            "                                                                 \n",
            " conv2d_2 (Conv2D)           (None, 60, 60, 16)        4624      \n",
            "                                                                 \n",
            " max_pooling2d_2 (MaxPooling  (None, 30, 30, 16)       0         \n",
            " 2D)                                                             \n",
            "                                                                 \n",
            " flatten (Flatten)           (None, 14400)             0         \n",
            "                                                                 \n",
            " dense (Dense)               (None, 256)               3686656   \n",
            "                                                                 \n",
            " dense_1 (Dense)             (None, 1)                 257       \n",
            "                                                                 \n",
            "=================================================================\n",
            "Total params: 3,696,625\n",
            "Trainable params: 3,696,625\n",
            "Non-trainable params: 0\n",
            "_________________________________________________________________\n"
          ]
        }
      ],
      "source": [
        "model.summary()"
      ]
    },
    {
      "cell_type": "markdown",
      "metadata": {
        "id": "PKzpfpgwblqH"
      },
      "source": [
        "Train"
      ]
    },
    {
      "cell_type": "code",
      "execution_count": null,
      "metadata": {
        "id": "xDLJ_TZ1V5ff"
      },
      "outputs": [],
      "source": [
        "logdir='logs'"
      ]
    },
    {
      "cell_type": "code",
      "execution_count": null,
      "metadata": {
        "id": "v0Myxek9bnjt"
      },
      "outputs": [],
      "source": [
        "tensorboard_callback = tf.keras.callbacks.TensorBoard(log_dir=logdir)"
      ]
    },
    {
      "cell_type": "code",
      "execution_count": null,
      "metadata": {
        "colab": {
          "base_uri": "https://localhost:8080/"
        },
        "id": "3K0uj2zzbplb",
        "outputId": "6f4cdbc7-da52-4ae4-d387-ac76e1b59c06"
      },
      "outputs": [
        {
          "output_type": "stream",
          "name": "stdout",
          "text": [
            "Epoch 1/20\n",
            "62/62 [==============================] - 45s 611ms/step - loss: 0.5985 - accuracy: 0.6668 - val_loss: 0.4907 - val_accuracy: 0.7700\n",
            "Epoch 2/20\n",
            "62/62 [==============================] - 59s 941ms/step - loss: 0.3440 - accuracy: 0.8524 - val_loss: 0.2517 - val_accuracy: 0.9059\n",
            "Epoch 3/20\n",
            "62/62 [==============================] - 38s 598ms/step - loss: 0.1508 - accuracy: 0.9434 - val_loss: 0.1630 - val_accuracy: 0.9418\n",
            "Epoch 4/20\n",
            "62/62 [==============================] - 59s 936ms/step - loss: 0.0560 - accuracy: 0.9815 - val_loss: 0.0905 - val_accuracy: 0.9724\n",
            "Epoch 5/20\n",
            "62/62 [==============================] - 39s 618ms/step - loss: 0.0200 - accuracy: 0.9940 - val_loss: 0.0741 - val_accuracy: 0.9776\n",
            "Epoch 6/20\n",
            "62/62 [==============================] - 39s 614ms/step - loss: 0.0136 - accuracy: 0.9966 - val_loss: 0.0804 - val_accuracy: 0.9753\n",
            "Epoch 7/20\n",
            "62/62 [==============================] - 39s 615ms/step - loss: 0.0129 - accuracy: 0.9963 - val_loss: 0.0781 - val_accuracy: 0.9835\n",
            "Epoch 8/20\n",
            "62/62 [==============================] - 38s 599ms/step - loss: 0.0066 - accuracy: 0.9977 - val_loss: 0.0588 - val_accuracy: 0.9841\n",
            "Epoch 9/20\n",
            "62/62 [==============================] - 38s 594ms/step - loss: 0.0098 - accuracy: 0.9971 - val_loss: 0.0645 - val_accuracy: 0.9853\n",
            "Epoch 10/20\n",
            "62/62 [==============================] - 38s 601ms/step - loss: 0.0078 - accuracy: 0.9982 - val_loss: 0.0747 - val_accuracy: 0.9841\n",
            "Epoch 11/20\n",
            "62/62 [==============================] - 59s 933ms/step - loss: 0.0090 - accuracy: 0.9974 - val_loss: 0.0734 - val_accuracy: 0.9829\n",
            "Epoch 12/20\n",
            "62/62 [==============================] - 40s 610ms/step - loss: 0.0013 - accuracy: 1.0000 - val_loss: 0.0599 - val_accuracy: 0.9894\n",
            "Epoch 13/20\n",
            "62/62 [==============================] - 40s 613ms/step - loss: 1.9292e-04 - accuracy: 1.0000 - val_loss: 0.0749 - val_accuracy: 0.9865\n",
            "Epoch 14/20\n",
            "62/62 [==============================] - 40s 611ms/step - loss: 2.1754e-04 - accuracy: 1.0000 - val_loss: 0.0673 - val_accuracy: 0.9882\n",
            "Epoch 15/20\n",
            "62/62 [==============================] - 40s 617ms/step - loss: 0.0023 - accuracy: 0.9998 - val_loss: 0.0953 - val_accuracy: 0.9859\n",
            "Epoch 16/20\n",
            "62/62 [==============================] - 39s 615ms/step - loss: 0.0185 - accuracy: 0.9944 - val_loss: 0.1228 - val_accuracy: 0.9641\n",
            "Epoch 17/20\n",
            "62/62 [==============================] - 39s 619ms/step - loss: 0.0166 - accuracy: 0.9939 - val_loss: 0.1041 - val_accuracy: 0.9747\n",
            "Epoch 18/20\n",
            "62/62 [==============================] - 40s 618ms/step - loss: 0.0136 - accuracy: 0.9953 - val_loss: 0.0829 - val_accuracy: 0.9794\n",
            "Epoch 19/20\n",
            "62/62 [==============================] - 39s 617ms/step - loss: 0.0076 - accuracy: 0.9984 - val_loss: 0.0778 - val_accuracy: 0.9865\n",
            "Epoch 20/20\n",
            "62/62 [==============================] - 38s 600ms/step - loss: 0.0063 - accuracy: 0.9982 - val_loss: 0.0535 - val_accuracy: 0.9876\n"
          ]
        }
      ],
      "source": [
        "hist = model.fit(train, epochs=20, validation_data=val, callbacks=[tensorboard_callback])"
      ]
    },
    {
      "cell_type": "markdown",
      "metadata": {
        "id": "eBiEkGfieBOL"
      },
      "source": [
        "Plot Performance and Accuracy"
      ]
    },
    {
      "cell_type": "code",
      "execution_count": null,
      "metadata": {
        "colab": {
          "base_uri": "https://localhost:8080/",
          "height": 294
        },
        "id": "rrD7QDd7br56",
        "outputId": "bc9dc0fc-ede0-4760-ac88-aa7c397fbec0"
      },
      "outputs": [
        {
          "output_type": "display_data",
          "data": {
            "text/plain": [
              "<Figure size 432x288 with 1 Axes>"
            ],
            "image/png": "[encoded data removed]"
          },
          "metadata": {
            "needs_background": "light"
          }
        }
      ],
      "source": [
        "fig = plt.figure()\n",
        "plt.plot(hist.history['loss'], color='teal', label='loss')\n",
        "plt.plot(hist.history['val_loss'], color='orange', label='val_loss')\n",
        "fig.suptitle('Loss', fontsize=20)\n",
        "plt.legend(loc=\"upper left\")\n",
        "plt.show()"
      ]
    },
    {
      "cell_type": "code",
      "execution_count": null,
      "metadata": {
        "colab": {
          "base_uri": "https://localhost:8080/",
          "height": 294
        },
        "id": "FvqmLr91d9HR",
        "outputId": "ffe683f6-d8c0-4cea-a311-b078dedf83f2"
      },
      "outputs": [
        {
          "output_type": "display_data",
          "data": {
            "text/plain": [
              "<Figure size 432x288 with 1 Axes>"
            ],
            "image/png": "[encoded data removed]"
          },
          "metadata": {
            "needs_background": "light"
          }
        }
      ],
      "source": [
        "fig = plt.figure()\n",
        "plt.plot(hist.history['accuracy'], color='teal', label='accuracy')\n",
        "plt.plot(hist.history['val_accuracy'], color='orange', label='val_accuracy')\n",
        "fig.suptitle('Accuracy', fontsize=20)\n",
        "plt.legend(loc=\"upper left\")\n",
        "plt.show()"
      ]
    },
    {
      "cell_type": "markdown",
      "metadata": {
        "id": "X2uOV6fYeEGJ"
      },
      "source": [
        "Evaluate"
      ]
    },
    {
      "cell_type": "code",
      "execution_count": null,
      "metadata": {
        "id": "CWkCTtBoeDli"
      },
      "outputs": [],
      "source": [
        "from tensorflow.keras.metrics import Precision, Recall, BinaryAccuracy"
      ]
    },
    {
      "cell_type": "code",
      "execution_count": null,
      "metadata": {
        "id": "TVV2duozeJMX"
      },
      "outputs": [],
      "source": [
        "pre = Precision()\n",
        "re = Recall()\n",
        "acc = BinaryAccuracy()"
      ]
    },
    {
      "cell_type": "code",
      "execution_count": null,
      "metadata": {
        "id": "bj5POqhpeK0z",
        "colab": {
          "base_uri": "https://localhost:8080/"
        },
        "outputId": "f7525bc3-b953-4819-9788-5b9788f5b9bb"
      },
      "outputs": [
        {
          "output_type": "stream",
          "name": "stdout",
          "text": [
            "4/4 [==============================] - 0s 33ms/step\n",
            "4/4 [==============================] - 0s 10ms/step\n",
            "4/4 [==============================] - 0s 11ms/step\n",
            "4/4 [==============================] - 0s 13ms/step\n",
            "4/4 [==============================] - 0s 11ms/step\n",
            "4/4 [==============================] - 0s 10ms/step\n",
            "4/4 [==============================] - 0s 10ms/step\n",
            "4/4 [==============================] - 0s 10ms/step\n"
          ]
        }
      ],
      "source": [
        "for batch in test.as_numpy_iterator():\n",
        "    X, y = batch\n",
        "    yhat = model.predict(X)\n",
        "    pre.update_state(y, yhat)\n",
        "    re.update_state(y, yhat)\n",
        "    acc.update_state(y, yhat)"
      ]
    },
    {
      "cell_type": "code",
      "execution_count": null,
      "metadata": {
        "id": "5GZ-Gyo2eMiW",
        "colab": {
          "base_uri": "https://localhost:8080/"
        },
        "outputId": "4725a6da-b286-47e4-f3c6-69e5c5f1b402"
      },
      "outputs": [
        {
          "output_type": "stream",
          "name": "stdout",
          "text": [
            "tf.Tensor(0.9660194, shape=(), dtype=float32) tf.Tensor(0.982716, shape=(), dtype=float32) tf.Tensor(0.97375, shape=(), dtype=float32)\n"
          ]
        }
      ],
      "source": [
        "print(pre.result(), re.result(), acc.result())"
      ]
    },
    {
      "cell_type": "markdown",
      "source": [
        "Test"
      ],
      "metadata": {
        "id": "keqnuOLBJSd0"
      }
    },
    {
      "cell_type": "code",
      "source": [
        "data = tf.keras.utils.image_dataset_from_directory('/content/drive/MyDrive/Colab Notebooks/Fracture Detection/val/', batch_size=100)"
      ],
      "metadata": {
        "colab": {
          "base_uri": "https://localhost:8080/"
        },
        "id": "NOkgw_CJJUBF",
        "outputId": "f391d711-b458-487a-ea64-2ee157d56f2a"
      },
      "execution_count": null,
      "outputs": [
        {
          "output_type": "stream",
          "name": "stdout",
          "text": [
            "Found 600 files belonging to 2 classes.\n"
          ]
        }
      ]
    },
    {
      "cell_type": "code",
      "source": [
        "data_iterator = data.as_numpy_iterator()\n",
        "batch = data_iterator.next()"
      ],
      "metadata": {
        "id": "TlcgeUAnJjEh"
      },
      "execution_count": null,
      "outputs": []
    },
    {
      "cell_type": "code",
      "source": [
        "data = data.map(lambda x,y: (x/255, y))\n",
        "data.as_numpy_iterator().next()"
      ],
      "metadata": {
        "colab": {
          "base_uri": "https://localhost:8080/"
        },
        "id": "j2O-v8jmKVi5",
        "outputId": "060b7af3-57c2-4b57-b442-6f6fecaec4eb"
      },
      "execution_count": null,
      "outputs": [
        {
          "output_type": "execute_result",
          "data": {
            "text/plain": [
              "(array([[[[0., 0., 0.],\n",
              "          [0., 0., 0.],\n",
              "          [0., 0., 0.],\n",
              "          ...,\n",
              "          [0., 0., 0.],\n",
              "          [0., 0., 0.],\n",
              "          [0., 0., 0.]],\n",
              " \n",
              "         [[0., 0., 0.],\n",
              "          [0., 0., 0.],\n",
              "          [0., 0., 0.],\n",
              "          ...,\n",
              "          [0., 0., 0.],\n",
              "          [0., 0., 0.],\n",
              "          [0., 0., 0.]],\n",
              " \n",
              "         [[0., 0., 0.],\n",
              "          [0., 0., 0.],\n",
              "          [0., 0., 0.],\n",
              "          ...,\n",
              "          [0., 0., 0.],\n",
              "          [0., 0., 0.],\n",
              "          [0., 0., 0.]],\n",
              " \n",
              "         ...,\n",
              " \n",
              "         [[0., 0., 0.],\n",
              "          [0., 0., 0.],\n",
              "          [0., 0., 0.],\n",
              "          ...,\n",
              "          [0., 0., 0.],\n",
              "          [0., 0., 0.],\n",
              "          [0., 0., 0.]],\n",
              " \n",
              "         [[0., 0., 0.],\n",
              "          [0., 0., 0.],\n",
              "          [0., 0., 0.],\n",
              "          ...,\n",
              "          [0., 0., 0.],\n",
              "          [0., 0., 0.],\n",
              "          [0., 0., 0.]],\n",
              " \n",
              "         [[0., 0., 0.],\n",
              "          [0., 0., 0.],\n",
              "          [0., 0., 0.],\n",
              "          ...,\n",
              "          [0., 0., 0.],\n",
              "          [0., 0., 0.],\n",
              "          [0., 0., 0.]]],\n",
              " \n",
              " \n",
              "        [[[0., 0., 0.],\n",
              "          [0., 0., 0.],\n",
              "          [0., 0., 0.],\n",
              "          ...,\n",
              "          [0., 0., 0.],\n",
              "          [0., 0., 0.],\n",
              "          [0., 0., 0.]],\n",
              " \n",
              "         [[0., 0., 0.],\n",
              "          [0., 0., 0.],\n",
              "          [0., 0., 0.],\n",
              "          ...,\n",
              "          [0., 0., 0.],\n",
              "          [0., 0., 0.],\n",
              "          [0., 0., 0.]],\n",
              " \n",
              "         [[0., 0., 0.],\n",
              "          [0., 0., 0.],\n",
              "          [0., 0., 0.],\n",
              "          ...,\n",
              "          [0., 0., 0.],\n",
              "          [0., 0., 0.],\n",
              "          [0., 0., 0.]],\n",
              " \n",
              "         ...,\n",
              " \n",
              "         [[0., 0., 0.],\n",
              "          [0., 0., 0.],\n",
              "          [0., 0., 0.],\n",
              "          ...,\n",
              "          [0., 0., 0.],\n",
              "          [0., 0., 0.],\n",
              "          [0., 0., 0.]],\n",
              " \n",
              "         [[0., 0., 0.],\n",
              "          [0., 0., 0.],\n",
              "          [0., 0., 0.],\n",
              "          ...,\n",
              "          [0., 0., 0.],\n",
              "          [0., 0., 0.],\n",
              "          [0., 0., 0.]],\n",
              " \n",
              "         [[0., 0., 0.],\n",
              "          [0., 0., 0.],\n",
              "          [0., 0., 0.],\n",
              "          ...,\n",
              "          [0., 0., 0.],\n",
              "          [0., 0., 0.],\n",
              "          [0., 0., 0.]]],\n",
              " \n",
              " \n",
              "        [[[0., 0., 0.],\n",
              "          [0., 0., 0.],\n",
              "          [0., 0., 0.],\n",
              "          ...,\n",
              "          [0., 0., 0.],\n",
              "          [0., 0., 0.],\n",
              "          [0., 0., 0.]],\n",
              " \n",
              "         [[0., 0., 0.],\n",
              "          [0., 0., 0.],\n",
              "          [0., 0., 0.],\n",
              "          ...,\n",
              "          [0., 0., 0.],\n",
              "          [0., 0., 0.],\n",
              "          [0., 0., 0.]],\n",
              " \n",
              "         [[0., 0., 0.],\n",
              "          [0., 0., 0.],\n",
              "          [0., 0., 0.],\n",
              "          ...,\n",
              "          [0., 0., 0.],\n",
              "          [0., 0., 0.],\n",
              "          [0., 0., 0.]],\n",
              " \n",
              "         ...,\n",
              " \n",
              "         [[0., 0., 0.],\n",
              "          [0., 0., 0.],\n",
              "          [0., 0., 0.],\n",
              "          ...,\n",
              "          [0., 0., 0.],\n",
              "          [0., 0., 0.],\n",
              "          [0., 0., 0.]],\n",
              " \n",
              "         [[0., 0., 0.],\n",
              "          [0., 0., 0.],\n",
              "          [0., 0., 0.],\n",
              "          ...,\n",
              "          [0., 0., 0.],\n",
              "          [0., 0., 0.],\n",
              "          [0., 0., 0.]],\n",
              " \n",
              "         [[0., 0., 0.],\n",
              "          [0., 0., 0.],\n",
              "          [0., 0., 0.],\n",
              "          ...,\n",
              "          [0., 0., 0.],\n",
              "          [0., 0., 0.],\n",
              "          [0., 0., 0.]]],\n",
              " \n",
              " \n",
              "        ...,\n",
              " \n",
              " \n",
              "        [[[0., 0., 0.],\n",
              "          [0., 0., 0.],\n",
              "          [0., 0., 0.],\n",
              "          ...,\n",
              "          [0., 0., 0.],\n",
              "          [0., 0., 0.],\n",
              "          [0., 0., 0.]],\n",
              " \n",
              "         [[0., 0., 0.],\n",
              "          [0., 0., 0.],\n",
              "          [0., 0., 0.],\n",
              "          ...,\n",
              "          [0., 0., 0.],\n",
              "          [0., 0., 0.],\n",
              "          [0., 0., 0.]],\n",
              " \n",
              "         [[0., 0., 0.],\n",
              "          [0., 0., 0.],\n",
              "          [0., 0., 0.],\n",
              "          ...,\n",
              "          [0., 0., 0.],\n",
              "          [0., 0., 0.],\n",
              "          [0., 0., 0.]],\n",
              " \n",
              "         ...,\n",
              " \n",
              "         [[0., 0., 0.],\n",
              "          [0., 0., 0.],\n",
              "          [0., 0., 0.],\n",
              "          ...,\n",
              "          [0., 0., 0.],\n",
              "          [0., 0., 0.],\n",
              "          [0., 0., 0.]],\n",
              " \n",
              "         [[0., 0., 0.],\n",
              "          [0., 0., 0.],\n",
              "          [0., 0., 0.],\n",
              "          ...,\n",
              "          [0., 0., 0.],\n",
              "          [0., 0., 0.],\n",
              "          [0., 0., 0.]],\n",
              " \n",
              "         [[0., 0., 0.],\n",
              "          [0., 0., 0.],\n",
              "          [0., 0., 0.],\n",
              "          ...,\n",
              "          [0., 0., 0.],\n",
              "          [0., 0., 0.],\n",
              "          [0., 0., 0.]]],\n",
              " \n",
              " \n",
              "        [[[0., 0., 0.],\n",
              "          [0., 0., 0.],\n",
              "          [0., 0., 0.],\n",
              "          ...,\n",
              "          [0., 0., 0.],\n",
              "          [0., 0., 0.],\n",
              "          [0., 0., 0.]],\n",
              " \n",
              "         [[0., 0., 0.],\n",
              "          [0., 0., 0.],\n",
              "          [0., 0., 0.],\n",
              "          ...,\n",
              "          [0., 0., 0.],\n",
              "          [0., 0., 0.],\n",
              "          [0., 0., 0.]],\n",
              " \n",
              "         [[0., 0., 0.],\n",
              "          [0., 0., 0.],\n",
              "          [0., 0., 0.],\n",
              "          ...,\n",
              "          [0., 0., 0.],\n",
              "          [0., 0., 0.],\n",
              "          [0., 0., 0.]],\n",
              " \n",
              "         ...,\n",
              " \n",
              "         [[0., 0., 0.],\n",
              "          [0., 0., 0.],\n",
              "          [0., 0., 0.],\n",
              "          ...,\n",
              "          [0., 0., 0.],\n",
              "          [0., 0., 0.],\n",
              "          [0., 0., 0.]],\n",
              " \n",
              "         [[0., 0., 0.],\n",
              "          [0., 0., 0.],\n",
              "          [0., 0., 0.],\n",
              "          ...,\n",
              "          [0., 0., 0.],\n",
              "          [0., 0., 0.],\n",
              "          [0., 0., 0.]],\n",
              " \n",
              "         [[0., 0., 0.],\n",
              "          [0., 0., 0.],\n",
              "          [0., 0., 0.],\n",
              "          ...,\n",
              "          [0., 0., 0.],\n",
              "          [0., 0., 0.],\n",
              "          [0., 0., 0.]]],\n",
              " \n",
              " \n",
              "        [[[0., 0., 0.],\n",
              "          [0., 0., 0.],\n",
              "          [0., 0., 0.],\n",
              "          ...,\n",
              "          [0., 0., 0.],\n",
              "          [0., 0., 0.],\n",
              "          [0., 0., 0.]],\n",
              " \n",
              "         [[0., 0., 0.],\n",
              "          [0., 0., 0.],\n",
              "          [0., 0., 0.],\n",
              "          ...,\n",
              "          [0., 0., 0.],\n",
              "          [0., 0., 0.],\n",
              "          [0., 0., 0.]],\n",
              " \n",
              "         [[0., 0., 0.],\n",
              "          [0., 0., 0.],\n",
              "          [0., 0., 0.],\n",
              "          ...,\n",
              "          [0., 0., 0.],\n",
              "          [0., 0., 0.],\n",
              "          [0., 0., 0.]],\n",
              " \n",
              "         ...,\n",
              " \n",
              "         [[0., 0., 0.],\n",
              "          [0., 0., 0.],\n",
              "          [0., 0., 0.],\n",
              "          ...,\n",
              "          [0., 0., 0.],\n",
              "          [0., 0., 0.],\n",
              "          [0., 0., 0.]],\n",
              " \n",
              "         [[0., 0., 0.],\n",
              "          [0., 0., 0.],\n",
              "          [0., 0., 0.],\n",
              "          ...,\n",
              "          [0., 0., 0.],\n",
              "          [0., 0., 0.],\n",
              "          [0., 0., 0.]],\n",
              " \n",
              "         [[0., 0., 0.],\n",
              "          [0., 0., 0.],\n",
              "          [0., 0., 0.],\n",
              "          ...,\n",
              "          [0., 0., 0.],\n",
              "          [0., 0., 0.],\n",
              "          [0., 0., 0.]]]], dtype=float32),\n",
              " array([1, 0, 1, 0, 1, 0, 1, 0, 1, 1, 0, 0, 1, 0, 1, 0, 0, 0, 0, 0, 1, 1,\n",
              "        1, 0, 0, 0, 1, 0, 0, 1, 0, 1, 1, 0, 1, 0, 0, 0, 1, 1, 0, 0, 1, 1,\n",
              "        0, 0, 0, 0, 0, 1, 0, 1, 0, 0, 1, 0, 0, 1, 0, 1, 0, 0, 0, 1, 0, 1,\n",
              "        0, 0, 0, 0, 0, 0, 1, 0, 0, 0, 1, 1, 0, 1, 0, 0, 1, 1, 1, 0, 1, 0,\n",
              "        0, 1, 0, 0, 0, 1, 1, 0, 1, 1, 1, 0], dtype=int32))"
            ]
          },
          "metadata": {},
          "execution_count": 38
        }
      ]
    },
    {
      "cell_type": "code",
      "source": [
        "yhat = model.predict(data.as_numpy_iterator())"
      ],
      "metadata": {
        "colab": {
          "base_uri": "https://localhost:8080/"
        },
        "id": "ENhL-eP_Kl0H",
        "outputId": "a26567e6-0db1-46d4-a723-1f147934dafb"
      },
      "execution_count": null,
      "outputs": [
        {
          "output_type": "stream",
          "name": "stdout",
          "text": [
            "6/6 [==============================] - 1s 148ms/step\n"
          ]
        }
      ]
    },
    {
      "cell_type": "code",
      "source": [
        "yhat"
      ],
      "metadata": {
        "colab": {
          "base_uri": "https://localhost:8080/"
        },
        "id": "2VP3MjxYKzd1",
        "outputId": "dfc3ba51-b16e-4a09-a82e-f29c92f8df12"
      },
      "execution_count": null,
      "outputs": [
        {
          "output_type": "execute_result",
          "data": {
            "text/plain": [
              "array([[7.33058393e-01],\n",
              "       [9.99812782e-01],\n",
              "       [3.22775293e-07],\n",
              "       [6.57550454e-01],\n",
              "       [9.63279724e-01],\n",
              "       [4.35503930e-01],\n",
              "       [9.99987841e-01],\n",
              "       [3.33915442e-01],\n",
              "       [6.16875757e-03],\n",
              "       [4.82606925e-02],\n",
              "       [3.57920182e-13],\n",
              "       [9.97836053e-01],\n",
              "       [1.31256040e-16],\n",
              "       [1.28107122e-03],\n",
              "       [9.99989748e-01],\n",
              "       [5.15245646e-03],\n",
              "       [9.99592841e-01],\n",
              "       [1.53752893e-01],\n",
              "       [9.99997377e-01],\n",
              "       [1.08282844e-11],\n",
              "       [1.10112270e-03],\n",
              "       [8.02610397e-01],\n",
              "       [9.99975681e-01],\n",
              "       [1.19374243e-04],\n",
              "       [9.81708126e-06],\n",
              "       [6.33907259e-01],\n",
              "       [9.97078538e-01],\n",
              "       [2.02307235e-02],\n",
              "       [8.70142728e-02],\n",
              "       [8.53808963e-18],\n",
              "       [9.99514222e-01],\n",
              "       [4.74263459e-01],\n",
              "       [2.15489715e-01],\n",
              "       [9.85087156e-01],\n",
              "       [6.74120031e-07],\n",
              "       [3.90182175e-02],\n",
              "       [4.29620835e-12],\n",
              "       [1.57992274e-03],\n",
              "       [4.48674738e-01],\n",
              "       [1.09860332e-04],\n",
              "       [9.57391381e-01],\n",
              "       [1.79258332e-01],\n",
              "       [9.67679203e-01],\n",
              "       [6.67031236e-06],\n",
              "       [1.74455333e-03],\n",
              "       [9.99994993e-01],\n",
              "       [1.00000000e+00],\n",
              "       [4.09778386e-01],\n",
              "       [9.99672651e-01],\n",
              "       [1.21913649e-01],\n",
              "       [1.45693690e-09],\n",
              "       [6.95371628e-02],\n",
              "       [5.65211107e-11],\n",
              "       [5.26185751e-01],\n",
              "       [1.23063172e-14],\n",
              "       [8.27299580e-02],\n",
              "       [9.99996305e-01],\n",
              "       [6.44408166e-02],\n",
              "       [9.33275819e-01],\n",
              "       [3.14583026e-08],\n",
              "       [4.80234027e-02],\n",
              "       [9.99992251e-01],\n",
              "       [1.46121847e-11],\n",
              "       [2.37322929e-05],\n",
              "       [9.99998927e-01],\n",
              "       [3.87676409e-03],\n",
              "       [9.99014020e-01],\n",
              "       [9.99293566e-01],\n",
              "       [1.94753171e-03],\n",
              "       [7.91777894e-02],\n",
              "       [5.40423334e-01],\n",
              "       [3.56215890e-03],\n",
              "       [1.00000000e+00],\n",
              "       [3.74695919e-02],\n",
              "       [3.13558445e-07],\n",
              "       [3.38479802e-02],\n",
              "       [2.51559347e-01],\n",
              "       [1.47980437e-01],\n",
              "       [9.99999881e-01],\n",
              "       [9.99977350e-01],\n",
              "       [8.88851047e-01],\n",
              "       [6.31168788e-08],\n",
              "       [1.58700198e-01],\n",
              "       [7.22079179e-08],\n",
              "       [2.71192589e-03],\n",
              "       [2.65151269e-11],\n",
              "       [9.99901772e-01],\n",
              "       [2.90167242e-01],\n",
              "       [9.74376380e-01],\n",
              "       [2.18067912e-15],\n",
              "       [9.95249867e-01],\n",
              "       [6.79970544e-04],\n",
              "       [1.60467134e-05],\n",
              "       [6.12868033e-02],\n",
              "       [9.99612153e-01],\n",
              "       [4.93633658e-01],\n",
              "       [1.68480986e-14],\n",
              "       [9.07761324e-03],\n",
              "       [1.19215697e-02],\n",
              "       [1.45277387e-10],\n",
              "       [6.80402177e-17],\n",
              "       [1.63650126e-04],\n",
              "       [9.10452724e-01],\n",
              "       [1.35514255e-09],\n",
              "       [9.66944247e-02],\n",
              "       [1.82792658e-14],\n",
              "       [1.80643144e-06],\n",
              "       [3.89086381e-02],\n",
              "       [5.10440615e-04],\n",
              "       [1.68510815e-04],\n",
              "       [9.86871123e-01],\n",
              "       [1.81883479e-07],\n",
              "       [9.99827325e-01],\n",
              "       [9.95495677e-01],\n",
              "       [1.43299559e-07],\n",
              "       [1.33004844e-01],\n",
              "       [1.59237146e-07],\n",
              "       [6.76918477e-02],\n",
              "       [9.95670080e-01],\n",
              "       [9.71136570e-01],\n",
              "       [8.67569983e-01],\n",
              "       [4.87915287e-03],\n",
              "       [3.07047763e-03],\n",
              "       [2.60144519e-03],\n",
              "       [2.36979872e-02],\n",
              "       [4.82041687e-01],\n",
              "       [6.33452600e-03],\n",
              "       [9.99980450e-01],\n",
              "       [7.36792106e-03],\n",
              "       [9.99994397e-01],\n",
              "       [3.71039643e-10],\n",
              "       [1.14316307e-02],\n",
              "       [9.64837074e-01],\n",
              "       [1.87100116e-02],\n",
              "       [2.35185471e-05],\n",
              "       [9.98873651e-01],\n",
              "       [2.97563076e-01],\n",
              "       [9.98349309e-01],\n",
              "       [1.59342551e-13],\n",
              "       [9.92691219e-01],\n",
              "       [9.94298160e-01],\n",
              "       [2.01542280e-03],\n",
              "       [5.10002494e-01],\n",
              "       [2.89833520e-15],\n",
              "       [5.22354792e-04],\n",
              "       [9.99984384e-01],\n",
              "       [2.73707174e-02],\n",
              "       [3.15424316e-02],\n",
              "       [5.31259459e-04],\n",
              "       [1.86086621e-03],\n",
              "       [9.99757707e-01],\n",
              "       [2.37475164e-04],\n",
              "       [9.99819577e-01],\n",
              "       [8.83820578e-02],\n",
              "       [2.91102469e-01],\n",
              "       [3.43698323e-01],\n",
              "       [1.51120946e-02],\n",
              "       [7.51854204e-11],\n",
              "       [8.08694780e-01],\n",
              "       [6.89210236e-01],\n",
              "       [3.23460013e-01],\n",
              "       [7.03393370e-02],\n",
              "       [2.49636156e-09],\n",
              "       [6.49352209e-04],\n",
              "       [2.24445108e-03],\n",
              "       [1.65398547e-03],\n",
              "       [1.91080016e-11],\n",
              "       [1.33785099e-01],\n",
              "       [4.72434731e-05],\n",
              "       [6.74026668e-01],\n",
              "       [9.99989033e-01],\n",
              "       [1.08282844e-11],\n",
              "       [5.83986640e-01],\n",
              "       [1.15392849e-01],\n",
              "       [1.06912432e-03],\n",
              "       [1.08317353e-01],\n",
              "       [1.85579037e-08],\n",
              "       [5.72609824e-05],\n",
              "       [9.54896927e-01],\n",
              "       [9.99956012e-01],\n",
              "       [4.10298556e-01],\n",
              "       [9.99960899e-01],\n",
              "       [9.94993269e-01],\n",
              "       [9.62218881e-01],\n",
              "       [6.67912245e-04],\n",
              "       [2.29550019e-01],\n",
              "       [5.34253836e-01],\n",
              "       [6.12385420e-10],\n",
              "       [1.24679006e-17],\n",
              "       [2.58557200e-02],\n",
              "       [9.42718625e-01],\n",
              "       [2.15695888e-01],\n",
              "       [9.45186138e-01],\n",
              "       [1.99147617e-04],\n",
              "       [3.91969312e-04],\n",
              "       [1.20565130e-06],\n",
              "       [1.37782067e-01],\n",
              "       [5.68546951e-01],\n",
              "       [3.40185434e-01],\n",
              "       [3.74070608e-16],\n",
              "       [2.86393513e-11],\n",
              "       [1.33707419e-01],\n",
              "       [2.11069832e-07],\n",
              "       [1.32600805e-02],\n",
              "       [3.63148359e-07],\n",
              "       [4.89156826e-15],\n",
              "       [2.92046189e-01],\n",
              "       [3.92782968e-03],\n",
              "       [1.59965623e-02],\n",
              "       [9.99726355e-01],\n",
              "       [9.99979734e-01],\n",
              "       [5.96919596e-01],\n",
              "       [2.10041199e-02],\n",
              "       [7.46299207e-01],\n",
              "       [1.20969165e-10],\n",
              "       [6.16340116e-02],\n",
              "       [4.53317817e-03],\n",
              "       [9.97631550e-01],\n",
              "       [9.99992847e-01],\n",
              "       [3.46606076e-02],\n",
              "       [3.02019231e-02],\n",
              "       [8.95545855e-02],\n",
              "       [5.74387945e-02],\n",
              "       [4.51812667e-07],\n",
              "       [5.44569218e-07],\n",
              "       [5.36261965e-03],\n",
              "       [3.16478591e-03],\n",
              "       [6.26861528e-02],\n",
              "       [5.58878277e-09],\n",
              "       [4.11484669e-09],\n",
              "       [2.85573334e-01],\n",
              "       [6.19830909e-10],\n",
              "       [4.33077512e-04],\n",
              "       [9.98464823e-01],\n",
              "       [3.75226606e-03],\n",
              "       [7.80318951e-05],\n",
              "       [3.77121707e-03],\n",
              "       [9.75591760e-11],\n",
              "       [9.99880672e-01],\n",
              "       [9.60441887e-01],\n",
              "       [2.65072715e-02],\n",
              "       [8.88508797e-01],\n",
              "       [1.10561699e-10],\n",
              "       [4.59514098e-07],\n",
              "       [4.77167632e-05],\n",
              "       [6.74958050e-01],\n",
              "       [1.00000000e+00],\n",
              "       [1.52076699e-03],\n",
              "       [3.52351391e-03],\n",
              "       [9.24711765e-11],\n",
              "       [9.99996305e-01],\n",
              "       [3.37838035e-10],\n",
              "       [6.76653981e-01],\n",
              "       [9.99939322e-01],\n",
              "       [9.22485709e-01],\n",
              "       [2.77713500e-03],\n",
              "       [9.32732463e-01],\n",
              "       [5.54871253e-11],\n",
              "       [2.65055951e-02],\n",
              "       [9.99767482e-01],\n",
              "       [4.81466559e-05],\n",
              "       [9.47234154e-01],\n",
              "       [1.54369187e-16],\n",
              "       [9.89679575e-01],\n",
              "       [8.00108969e-01],\n",
              "       [3.51116934e-04],\n",
              "       [2.70741060e-03],\n",
              "       [9.55717928e-17],\n",
              "       [1.43360108e-01],\n",
              "       [7.75040576e-07],\n",
              "       [6.59638762e-01],\n",
              "       [8.62810761e-02],\n",
              "       [5.63837253e-02],\n",
              "       [9.99999046e-01],\n",
              "       [3.23061439e-11],\n",
              "       [7.55551532e-02],\n",
              "       [1.34988263e-01],\n",
              "       [7.60410311e-12],\n",
              "       [1.74773894e-02],\n",
              "       [5.89992735e-04],\n",
              "       [3.72873172e-02],\n",
              "       [3.99699621e-03],\n",
              "       [4.09861357e-04],\n",
              "       [2.30167173e-02],\n",
              "       [1.72000483e-01],\n",
              "       [4.93543642e-03],\n",
              "       [6.01327896e-01],\n",
              "       [1.35305029e-07],\n",
              "       [8.80809203e-02],\n",
              "       [2.64842412e-03],\n",
              "       [1.95458129e-01],\n",
              "       [2.22026512e-11],\n",
              "       [9.77560671e-11],\n",
              "       [2.88898462e-12],\n",
              "       [5.80273494e-02],\n",
              "       [9.95326638e-01],\n",
              "       [4.35893489e-05],\n",
              "       [8.21048558e-01],\n",
              "       [9.92417336e-01],\n",
              "       [1.16283381e-07],\n",
              "       [9.97947633e-01],\n",
              "       [9.08857025e-03],\n",
              "       [9.34346244e-02],\n",
              "       [7.65144592e-04],\n",
              "       [9.98399556e-01],\n",
              "       [1.41595968e-03],\n",
              "       [9.99900341e-01],\n",
              "       [9.99996305e-01],\n",
              "       [1.23722458e-07],\n",
              "       [9.86706197e-01],\n",
              "       [2.96608796e-19],\n",
              "       [5.09598963e-02],\n",
              "       [9.48312700e-01],\n",
              "       [9.74296182e-02],\n",
              "       [3.80025078e-09],\n",
              "       [9.99888182e-01],\n",
              "       [9.70882773e-01],\n",
              "       [1.16283381e-07],\n",
              "       [1.73577126e-02],\n",
              "       [9.93647158e-01],\n",
              "       [4.03159261e-02],\n",
              "       [9.99955177e-01],\n",
              "       [2.23776256e-03],\n",
              "       [5.58878277e-09],\n",
              "       [9.85532820e-01],\n",
              "       [3.19603658e-14],\n",
              "       [2.84497743e-03],\n",
              "       [9.99808013e-01],\n",
              "       [8.57227862e-01],\n",
              "       [8.95077748e-18],\n",
              "       [1.67249553e-02],\n",
              "       [4.80735675e-03],\n",
              "       [9.15421546e-01],\n",
              "       [3.04780756e-10],\n",
              "       [5.81119286e-09],\n",
              "       [1.46067417e-16],\n",
              "       [1.42724140e-11],\n",
              "       [4.99701457e-07],\n",
              "       [1.00000000e+00],\n",
              "       [1.86052918e-01],\n",
              "       [8.77238810e-04],\n",
              "       [9.99975920e-01],\n",
              "       [9.99524117e-01],\n",
              "       [3.86854529e-01],\n",
              "       [5.74387945e-02],\n",
              "       [9.99946833e-01],\n",
              "       [9.99992490e-01],\n",
              "       [9.98875558e-01],\n",
              "       [2.86676884e-02],\n",
              "       [6.30274415e-04],\n",
              "       [2.31583804e-01],\n",
              "       [5.96400490e-03],\n",
              "       [2.85110130e-10],\n",
              "       [1.83665790e-04],\n",
              "       [9.99988914e-01],\n",
              "       [9.99018073e-01],\n",
              "       [9.98290598e-01],\n",
              "       [8.11071098e-02],\n",
              "       [9.95778322e-01],\n",
              "       [9.99969602e-01],\n",
              "       [3.52374226e-01],\n",
              "       [4.17518535e-08],\n",
              "       [6.01649703e-03],\n",
              "       [4.28025089e-02],\n",
              "       [3.46685344e-16],\n",
              "       [6.91380054e-02],\n",
              "       [9.99817550e-01],\n",
              "       [1.16260927e-02],\n",
              "       [9.48783068e-04],\n",
              "       [8.08694780e-01],\n",
              "       [4.27005106e-15],\n",
              "       [9.76293325e-01],\n",
              "       [1.75259024e-01],\n",
              "       [5.70414960e-01],\n",
              "       [1.38266444e-01],\n",
              "       [1.08954567e-03],\n",
              "       [5.22132497e-04],\n",
              "       [1.59965623e-02],\n",
              "       [1.67452902e-01],\n",
              "       [3.65763567e-02],\n",
              "       [1.52785154e-02],\n",
              "       [9.61991489e-01],\n",
              "       [6.58601202e-05],\n",
              "       [1.00000000e+00],\n",
              "       [9.99999285e-01],\n",
              "       [9.99997377e-01],\n",
              "       [9.91418242e-01],\n",
              "       [7.59268552e-02],\n",
              "       [6.47442192e-02],\n",
              "       [7.18612290e-13],\n",
              "       [6.96945572e-05],\n",
              "       [1.72458794e-02],\n",
              "       [5.01778387e-02],\n",
              "       [4.23028022e-02],\n",
              "       [4.10793349e-02],\n",
              "       [8.59094024e-01],\n",
              "       [2.61744171e-01],\n",
              "       [5.70263676e-02],\n",
              "       [1.33719808e-16],\n",
              "       [9.99783576e-01],\n",
              "       [1.42574072e-01],\n",
              "       [9.99977231e-01],\n",
              "       [2.76650186e-04],\n",
              "       [4.96306930e-05],\n",
              "       [9.85950768e-01],\n",
              "       [1.22283157e-02],\n",
              "       [9.06623751e-02],\n",
              "       [9.84691679e-01],\n",
              "       [2.83225000e-01],\n",
              "       [9.99996901e-01],\n",
              "       [2.01542280e-03],\n",
              "       [9.99952912e-01],\n",
              "       [9.93959665e-01],\n",
              "       [2.90312730e-02],\n",
              "       [9.96688306e-01],\n",
              "       [9.45739597e-02],\n",
              "       [1.85324904e-03],\n",
              "       [9.94191488e-17],\n",
              "       [1.57880786e-09],\n",
              "       [9.86523211e-01],\n",
              "       [9.94258404e-01],\n",
              "       [9.97924566e-01],\n",
              "       [9.97882903e-01],\n",
              "       [1.12229737e-03],\n",
              "       [9.41600323e-01],\n",
              "       [5.20164371e-01],\n",
              "       [2.51310691e-02],\n",
              "       [7.27468908e-01],\n",
              "       [9.99999881e-01],\n",
              "       [4.17018496e-03],\n",
              "       [3.75115706e-05],\n",
              "       [9.99412894e-01],\n",
              "       [1.51252523e-01],\n",
              "       [9.98775423e-01],\n",
              "       [7.13433931e-03],\n",
              "       [6.12868033e-02],\n",
              "       [1.23897733e-16],\n",
              "       [1.38468982e-14],\n",
              "       [5.68585731e-02],\n",
              "       [3.73217389e-02],\n",
              "       [9.96548355e-01],\n",
              "       [4.14603846e-07],\n",
              "       [6.74581912e-04],\n",
              "       [2.45529623e-03],\n",
              "       [9.32625881e-15],\n",
              "       [1.82025414e-03],\n",
              "       [5.76419711e-01],\n",
              "       [2.04095733e-11],\n",
              "       [1.82044357e-09],\n",
              "       [4.33950788e-07],\n",
              "       [1.20326445e-01],\n",
              "       [1.42455738e-05],\n",
              "       [3.84080447e-02],\n",
              "       [9.99999642e-01],\n",
              "       [9.99972582e-01],\n",
              "       [6.62499832e-15],\n",
              "       [2.75215007e-06],\n",
              "       [3.83411869e-02],\n",
              "       [2.02764049e-02],\n",
              "       [4.77717229e-04],\n",
              "       [6.30722736e-18],\n",
              "       [9.91700947e-01],\n",
              "       [9.99413252e-01],\n",
              "       [9.33954060e-01],\n",
              "       [4.81466559e-05],\n",
              "       [3.83565304e-18],\n",
              "       [4.06767726e-02],\n",
              "       [3.41292471e-01],\n",
              "       [9.99955535e-01],\n",
              "       [1.87979843e-02],\n",
              "       [1.56000067e-04],\n",
              "       [9.58260953e-01],\n",
              "       [1.59195150e-14],\n",
              "       [8.58215541e-02],\n",
              "       [6.82327524e-02],\n",
              "       [6.43515706e-01],\n",
              "       [8.96853805e-02],\n",
              "       [3.53819542e-02],\n",
              "       [7.51664817e-01],\n",
              "       [8.25175829e-03],\n",
              "       [9.99975801e-01],\n",
              "       [1.69620216e-02],\n",
              "       [2.73963064e-01],\n",
              "       [8.19974244e-02],\n",
              "       [3.83581326e-11],\n",
              "       [1.69638451e-03],\n",
              "       [9.40797329e-01],\n",
              "       [9.99775112e-01],\n",
              "       [9.99958515e-01],\n",
              "       [9.99987364e-01],\n",
              "       [9.05197606e-09],\n",
              "       [8.75132997e-03],\n",
              "       [1.82218120e-01],\n",
              "       [6.20955788e-02],\n",
              "       [3.49373042e-09],\n",
              "       [1.74255759e-01],\n",
              "       [9.72777188e-01],\n",
              "       [9.95023608e-01],\n",
              "       [3.37020099e-01],\n",
              "       [9.99602616e-01],\n",
              "       [1.03597879e-01],\n",
              "       [5.47555745e-01],\n",
              "       [1.17357576e-03],\n",
              "       [9.91574466e-01],\n",
              "       [7.73197934e-02],\n",
              "       [9.99877930e-01],\n",
              "       [6.28815219e-02],\n",
              "       [3.96112300e-05],\n",
              "       [1.00000000e+00],\n",
              "       [1.32319379e-15],\n",
              "       [2.09509805e-02],\n",
              "       [9.98565972e-01],\n",
              "       [2.85448250e-03],\n",
              "       [2.66333872e-10],\n",
              "       [9.99684691e-01],\n",
              "       [8.00351441e-01],\n",
              "       [1.38055859e-02],\n",
              "       [9.95801508e-01],\n",
              "       [3.04451851e-06],\n",
              "       [9.66184914e-01],\n",
              "       [3.59435490e-13],\n",
              "       [6.57074967e-14],\n",
              "       [1.41546261e-05],\n",
              "       [9.99050319e-01],\n",
              "       [1.90643594e-02],\n",
              "       [5.82371087e-12],\n",
              "       [2.30761338e-02],\n",
              "       [9.94830132e-02],\n",
              "       [9.99934793e-01],\n",
              "       [8.00108969e-01],\n",
              "       [1.18192933e-01],\n",
              "       [9.72481745e-15],\n",
              "       [7.18612290e-13],\n",
              "       [2.29092650e-02],\n",
              "       [9.99857783e-01],\n",
              "       [1.11892829e-02],\n",
              "       [9.18553770e-01],\n",
              "       [4.04568668e-03],\n",
              "       [3.36103477e-02],\n",
              "       [4.51810062e-02],\n",
              "       [9.76741128e-03],\n",
              "       [9.99946475e-01],\n",
              "       [7.98158526e-01],\n",
              "       [4.73687312e-09],\n",
              "       [2.53060590e-02],\n",
              "       [9.98748899e-01],\n",
              "       [9.99996543e-01],\n",
              "       [1.12122107e-04],\n",
              "       [2.62805733e-09],\n",
              "       [4.80449361e-11],\n",
              "       [4.37513803e-09],\n",
              "       [1.91047104e-04],\n",
              "       [9.50699925e-01],\n",
              "       [9.99798000e-01],\n",
              "       [9.99990106e-01],\n",
              "       [9.99908805e-01],\n",
              "       [8.00203979e-01],\n",
              "       [1.24509889e-03],\n",
              "       [2.80337203e-02],\n",
              "       [9.95507002e-01],\n",
              "       [6.02829643e-03],\n",
              "       [9.89351094e-01],\n",
              "       [3.78027469e-01],\n",
              "       [1.81468895e-09],\n",
              "       [1.75042008e-03],\n",
              "       [9.99964595e-01],\n",
              "       [9.85049188e-01],\n",
              "       [1.34279334e-03],\n",
              "       [9.99671578e-01],\n",
              "       [3.95812181e-13],\n",
              "       [9.99990702e-01],\n",
              "       [1.00000000e+00],\n",
              "       [1.83300333e-10],\n",
              "       [4.53190040e-03],\n",
              "       [1.77556555e-16],\n",
              "       [9.80929971e-01],\n",
              "       [6.53595388e-01],\n",
              "       [3.45102720e-08],\n",
              "       [1.82618462e-02],\n",
              "       [5.18577844e-02],\n",
              "       [1.75198133e-03],\n",
              "       [3.64855267e-02],\n",
              "       [5.64317167e-01],\n",
              "       [6.16034381e-02],\n",
              "       [3.54404074e-05],\n",
              "       [4.88987833e-01],\n",
              "       [9.77107108e-01],\n",
              "       [4.44727026e-15],\n",
              "       [9.99998331e-01],\n",
              "       [1.39306784e-01],\n",
              "       [7.37033989e-10],\n",
              "       [4.69161570e-02],\n",
              "       [9.99994516e-01],\n",
              "       [2.25390010e-02],\n",
              "       [8.03656429e-02],\n",
              "       [1.83665790e-04],\n",
              "       [8.85876615e-12],\n",
              "       [3.07823473e-04],\n",
              "       [9.78055835e-01],\n",
              "       [3.01353008e-01]], dtype=float32)"
            ]
          },
          "metadata": {},
          "execution_count": 40
        }
      ]
    },
    {
      "cell_type": "code",
      "source": [
        "print(\"Optimized CNN Model\")\n",
        "\n",
        "print( 'Model Accuracy:' +str(model.evaluate(data.as_numpy_iterator())[1]))\n",
        "print( 'Model Loss:' +str(model.evaluate(data.as_numpy_iterator())[0]))"
      ],
      "metadata": {
        "colab": {
          "base_uri": "https://localhost:8080/"
        },
        "id": "z_nC_g9vK5Ub",
        "outputId": "21085ade-fcbe-4db7-9caf-dfea1b684930"
      },
      "execution_count": null,
      "outputs": [
        {
          "output_type": "stream",
          "name": "stdout",
          "text": [
            "Optimized CNN Model\n",
            "6/6 [==============================] - 1s 151ms/step - loss: 1.8971 - accuracy: 0.6667\n",
            "Model Accuracy:0.6666666865348816\n",
            "6/6 [==============================] - 1s 105ms/step - loss: 1.8971 - accuracy: 0.6667\n",
            "Model Loss:1.897139072418213\n"
          ]
        }
      ]
    }
  ],
  "metadata": {
    "accelerator": "GPU",
    "colab": {
      "provenance": [],
      "authorship_tag": "ABX9TyNrTfQRI8IwxdIkmq6kqQAa",
      "include_colab_link": true
    },
    "gpuClass": "standard",
    "kernelspec": {
      "display_name": "Python 3",
      "name": "python3"
    },
    "language_info": {
      "name": "python"
    }
  },
  "nbformat": 4,
  "nbformat_minor": 0
}